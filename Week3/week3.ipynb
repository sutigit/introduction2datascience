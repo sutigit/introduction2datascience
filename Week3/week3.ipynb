{
  "cells": [
    {
      "cell_type": "markdown",
      "metadata": {
        "id": "3vbzALNyvRq4"
      },
      "source": [
        "# Introduction to Data Science 2025\n",
        "\n",
        "# Week 3"
      ]
    },
    {
      "cell_type": "markdown",
      "metadata": {
        "id": "Gf5yrH3ivRq8"
      },
      "source": [
        "## Exercise 1 | Working with geospatial data (GIS)"
      ]
    },
    {
      "cell_type": "markdown",
      "metadata": {
        "id": "L8n5AKgIvRq8"
      },
      "source": [
        "To get at least a bit familiar with [GIS](https://en.wikipedia.org/wiki/Geographic_information_system) data and the concept of map projections, we’ll do a simple task of plotting two data sets that are given in different coordinate systems.\n",
        "\n",
        "1. Download the [world_m.zip](https://github.com/HY-TKTL/intro-to-data-science-2017/blob/master/world_m.zip) and [cities.zip](https://github.com/HY-TKTL/intro-to-data-science-2017/blob/master/cities.zip) files that each include a set of GIS files. Most notably, the <span style=\"font-weight: bold\">shp</span> files are [Shapefile-files](https://en.wikipedia.org/wiki/Shapefile) with coordinates (don’t look, it’s binary!). The <span style=\"font-weight: bold\">prj</span> files contain information (in plain text, so okay to look) about the coordinate systems. Open the files using your favorite programming environment and packages.  \n",
        "\n",
        "    <span style=\"font-weight: 500\"> *Hint: We warmly recommend [Geopandas](http://geopandas.org/) for pythonistas.*</span>"
      ]
    },
    {
      "cell_type": "code",
      "execution_count": null,
      "metadata": {
        "id": "eNBmwJWIvRq9"
      },
      "outputs": [],
      "source": [
        "# Use this cell for your code\n",
        "import geopandas as gpd\n",
        "import matplotlib.pyplot as plt\n",
        "\n",
        "world_gdf = gpd.read_file(\"assets/world_m/world_m.shp\")\n",
        "world_gdf\n",
        "\n",
        "cities_gdf = gpd.read_file(\"assets/cities/cities.shp\")\n",
        "cities_gdf\n",
        "\n",
        "\n",
        "\n"
      ]
    },
    {
      "cell_type": "markdown",
      "metadata": {
        "id": "SDVMTE5OvRq9"
      },
      "source": [
        "2. The <span style=\"font-weight: bold\">world_m</span> file contains borders of almost all countries in the world. Plot the world."
      ]
    },
    {
      "cell_type": "code",
      "execution_count": null,
      "metadata": {
        "id": "6InHn-CBvRq-"
      },
      "outputs": [],
      "source": [
        "# Use this cell for your code\n",
        "\n",
        "world_gdf.plot(edgecolor=\"black\", linewidth=0.3).set_axis_off()\n",
        "plt.show()"
      ]
    },
    {
      "cell_type": "markdown",
      "metadata": {
        "id": "aelVUwlhvRq-"
      },
      "source": [
        "3. On top of the countries that you just plotted, plot another layer of information, namely the capital cities of each country from the <span style=\"font-weight: bold\">cities</span> dataset. However, depending on how clever your programming environment is, the cities will probably all appear to be in the Gulf of Guinea, near the coordinates (0°, 0°)."
      ]
    },
    {
      "cell_type": "code",
      "execution_count": null,
      "metadata": {
        "id": "AvfOO_ikvRq-"
      },
      "outputs": [],
      "source": [
        "# Use this cell for your code\n",
        "if world_gdf.crs != cities_gdf.crs:\n",
        "    cities_gdf = cities_gdf.to_crs(world_gdf.crs)\n",
        "    \n",
        "\n",
        "cities_gdf.plot(color=\"magenta\", markersize=4).set_axis_off()\n",
        "world_gdf.plot(edgecolor=\"black\", facecolor=\"grey\", linewidth=0.3).set_axis_off()\n",
        "plt.show()"
      ]
    },
    {
      "cell_type": "markdown",
      "metadata": {
        "id": "lFGsoGT4vRq_"
      },
      "source": [
        "4. Perform a map projection to bring the two data-sets into a shared coordinate system. (You can choose which one.) Now plot the two layers together to make sure the capital cities are where they are supposed to be."
      ]
    },
    {
      "cell_type": "code",
      "execution_count": null,
      "metadata": {
        "id": "KyT4S1dAvRq_"
      },
      "outputs": [],
      "source": [
        "# Use this cell for your code\n",
        "if world_gdf.crs != cities_gdf.crs:\n",
        "    cities_gdf = cities_gdf.to_crs(world_gdf.crs)\n",
        "    \n",
        "\n",
        "ax = world_gdf.plot(edgecolor=\"black\", facecolor=\"grey\", linewidth=0.3)\n",
        "cities_gdf.plot(ax=ax, color=\"magenta\", markersize=4)\n",
        "ax.set_axis_off()\n",
        "plt.show()"
      ]
    },
    {
      "cell_type": "markdown",
      "metadata": {
        "id": "-6xpgZlYvRq_"
      },
      "source": [
        "**Remember to submit your code on the MOOC platform. You can return this Jupyter notebook (.ipynb) or .py, .R, etc depending on your programming preferences.**"
      ]
    },
    {
      "cell_type": "markdown",
      "metadata": {
        "id": "szhdrpLKvRq_"
      },
      "source": [
        "## Exercise 2 | Symbol classification\n",
        "\n",
        "We’ll be looking into machine learning by checking out the [HASYv2](https://zenodo.org/record/259444#.Wb7efZ8xDhZ) dataset that contains hand written mathematical symbols as images. The whole dataset is quite big, so we’ll restrict ourselves to doing 10-class classification on some of the symbols. Download the data and complete the following tasks."
      ]
    },
    {
      "cell_type": "markdown",
      "metadata": {
        "id": "d0QQVXIPvRq_"
      },
      "source": [
        "1. Extract the data and find inside a file called <span style=\"font-weight: bold\">hasy-data-labels.csv</span>. This file contains the labels for each of the images in the <span style=\"font-weight: bold\">hasy_data</span> folder. Read the labels in and only keep the rows where the <span style=\"font-weight: bold\">symbol_id</span> is within the inclusive range <span style=\"font-weight: bold\">[70, 79]</span>. Read the corresponding images as black-and-white images and flatten them so that each image is a single vector of shape <span style=\"font-weight: bold\">32x32 = 1024</span>. Your dataset should now consist of your input data of shape <span style=\"font-weight: bold\">(1020, 1024)</span> and your labels of shape <span style=\"font-weight: bold\">(1020, )</span>. That is, a matrix of shape <span style=\"font-weight: bold\">1020 x 1024</span> and a vector of size <span style=\"font-weight: bold\">1020</span>."
      ]
    },
    {
      "cell_type": "code",
      "execution_count": 58,
      "metadata": {
        "id": "QQkiE2ecvRq_"
      },
      "outputs": [
        {
          "data": {
            "text/html": [
              "<div>\n",
              "<style scoped>\n",
              "    .dataframe tbody tr th:only-of-type {\n",
              "        vertical-align: middle;\n",
              "    }\n",
              "\n",
              "    .dataframe tbody tr th {\n",
              "        vertical-align: top;\n",
              "    }\n",
              "\n",
              "    .dataframe thead th {\n",
              "        text-align: right;\n",
              "    }\n",
              "</style>\n",
              "<table border=\"1\" class=\"dataframe\">\n",
              "  <thead>\n",
              "    <tr style=\"text-align: right;\">\n",
              "      <th></th>\n",
              "      <th>label</th>\n",
              "      <th>vec</th>\n",
              "    </tr>\n",
              "  </thead>\n",
              "  <tbody>\n",
              "    <tr>\n",
              "      <th>0</th>\n",
              "      <td>70</td>\n",
              "      <td>[255, 255, 255, 255, 255, 255, 255, 255, 255, ...</td>\n",
              "    </tr>\n",
              "    <tr>\n",
              "      <th>1</th>\n",
              "      <td>70</td>\n",
              "      <td>[255, 255, 255, 255, 255, 255, 255, 255, 255, ...</td>\n",
              "    </tr>\n",
              "    <tr>\n",
              "      <th>2</th>\n",
              "      <td>70</td>\n",
              "      <td>[255, 255, 255, 255, 255, 255, 255, 255, 255, ...</td>\n",
              "    </tr>\n",
              "    <tr>\n",
              "      <th>3</th>\n",
              "      <td>70</td>\n",
              "      <td>[255, 255, 255, 255, 255, 255, 255, 255, 255, ...</td>\n",
              "    </tr>\n",
              "    <tr>\n",
              "      <th>4</th>\n",
              "      <td>70</td>\n",
              "      <td>[255, 255, 255, 255, 255, 255, 255, 255, 255, ...</td>\n",
              "    </tr>\n",
              "    <tr>\n",
              "      <th>...</th>\n",
              "      <td>...</td>\n",
              "      <td>...</td>\n",
              "    </tr>\n",
              "    <tr>\n",
              "      <th>1015</th>\n",
              "      <td>79</td>\n",
              "      <td>[255, 255, 255, 255, 255, 255, 255, 255, 255, ...</td>\n",
              "    </tr>\n",
              "    <tr>\n",
              "      <th>1016</th>\n",
              "      <td>79</td>\n",
              "      <td>[255, 255, 255, 255, 255, 255, 255, 255, 255, ...</td>\n",
              "    </tr>\n",
              "    <tr>\n",
              "      <th>1017</th>\n",
              "      <td>79</td>\n",
              "      <td>[255, 255, 255, 255, 255, 255, 0, 0, 0, 0, 0, ...</td>\n",
              "    </tr>\n",
              "    <tr>\n",
              "      <th>1018</th>\n",
              "      <td>79</td>\n",
              "      <td>[255, 255, 255, 255, 255, 255, 0, 0, 0, 0, 0, ...</td>\n",
              "    </tr>\n",
              "    <tr>\n",
              "      <th>1019</th>\n",
              "      <td>79</td>\n",
              "      <td>[255, 255, 255, 255, 255, 255, 255, 255, 255, ...</td>\n",
              "    </tr>\n",
              "  </tbody>\n",
              "</table>\n",
              "<p>1020 rows × 2 columns</p>\n",
              "</div>"
            ],
            "text/plain": [
              "      label                                                vec\n",
              "0        70  [255, 255, 255, 255, 255, 255, 255, 255, 255, ...\n",
              "1        70  [255, 255, 255, 255, 255, 255, 255, 255, 255, ...\n",
              "2        70  [255, 255, 255, 255, 255, 255, 255, 255, 255, ...\n",
              "3        70  [255, 255, 255, 255, 255, 255, 255, 255, 255, ...\n",
              "4        70  [255, 255, 255, 255, 255, 255, 255, 255, 255, ...\n",
              "...     ...                                                ...\n",
              "1015     79  [255, 255, 255, 255, 255, 255, 255, 255, 255, ...\n",
              "1016     79  [255, 255, 255, 255, 255, 255, 255, 255, 255, ...\n",
              "1017     79  [255, 255, 255, 255, 255, 255, 0, 0, 0, 0, 0, ...\n",
              "1018     79  [255, 255, 255, 255, 255, 255, 0, 0, 0, 0, 0, ...\n",
              "1019     79  [255, 255, 255, 255, 255, 255, 255, 255, 255, ...\n",
              "\n",
              "[1020 rows x 2 columns]"
            ]
          },
          "execution_count": 58,
          "metadata": {},
          "output_type": "execute_result"
        }
      ],
      "source": [
        "# Use this cell for your code\n",
        "import pandas as pd\n",
        "import numpy as np\n",
        "from PIL import Image\n",
        "\n",
        "\n",
        "# read labels\n",
        "labels_df = pd.read_csv(\"assets/hasy-data-labels.csv\")\n",
        "\n",
        "# in range\n",
        "labels_df = labels_df[(labels_df[\"symbol_id\"] >= 70) & (labels_df[\"symbol_id\"] <= 79)]\n",
        "\n",
        "rows = []\n",
        "\n",
        "for idx, item in labels_df.iterrows():\n",
        "    img = Image.open(f\"assets/{item[\"path\"]}\").convert(\"L\").resize((32,32))\n",
        "    vec = np.array(img).flatten()\n",
        "    rows.append({ \"label\": item[\"symbol_id\"], \"vec\": vec})\n",
        "    \n",
        "data_df = pd.DataFrame(rows)\n",
        "data_df"
      ]
    },
    {
      "cell_type": "markdown",
      "metadata": {
        "id": "5sZQ5m5lvRrA"
      },
      "source": [
        "2. Randomly shuffle the data, and then split it into training and test sets, using the first 80% of the data for training and the rest for evaluation."
      ]
    },
    {
      "cell_type": "code",
      "execution_count": 60,
      "metadata": {
        "id": "XJ7yRem-vRrA"
      },
      "outputs": [],
      "source": [
        "# Use this cell for your code\n",
        "from sklearn.model_selection import train_test_split, cross_val_score\n",
        "\n",
        "# shuffle\n",
        "shuffled_df = data_df.sample(frac=1, random_state=42).reset_index(drop=True)\n",
        "\n",
        "# Split to training and test sets\n",
        "X = np.vstack(shuffled_df[\"vec\"].values)   # shape (n_samples, 1024), numeric 2D array\n",
        "y = shuffled_df[\"label\"].values\n",
        "\n",
        "X_train, X_test, y_train, y_test = train_test_split(X, y, test_size=0.2, random_state=42, stratify=y)\n",
        "\n"
      ]
    },
    {
      "cell_type": "markdown",
      "metadata": {
        "id": "iu7qCqqpvRrA"
      },
      "source": [
        "3. Fit a logistic regression classifier on the data. Note that we have a multi-class classification problem, but logistic regression is a binary classifier. For this reason, you will find useful <span style=\"font-weight: bold\">[Sklearn's \"multi_class\" attribute](https://scikit-learn.org/stable/modules/generated/sklearn.linear_model.LogisticRegression.html)</span>. Use a multinomial loss and the softmax function to predict the probability of each class as the outcome.  The classifier should select the class with the highest probability. Most library implementations will do this for you - feel free to use one."
      ]
    },
    {
      "cell_type": "code",
      "execution_count": 61,
      "metadata": {
        "id": "IalbaG5JvRrA"
      },
      "outputs": [
        {
          "name": "stderr",
          "output_type": "stream",
          "text": [
            "/home/sutipong/anaconda3/lib/python3.13/site-packages/sklearn/linear_model/_logistic.py:1247: FutureWarning: 'multi_class' was deprecated in version 1.5 and will be removed in 1.7. From then on, it will always use 'multinomial'. Leave it to its default value to avoid this warning.\n",
            "  warnings.warn(\n",
            "/home/sutipong/anaconda3/lib/python3.13/site-packages/sklearn/linear_model/_logistic.py:1247: FutureWarning: 'multi_class' was deprecated in version 1.5 and will be removed in 1.7. From then on, it will always use 'multinomial'. Leave it to its default value to avoid this warning.\n",
            "  warnings.warn(\n",
            "/home/sutipong/anaconda3/lib/python3.13/site-packages/sklearn/linear_model/_logistic.py:1247: FutureWarning: 'multi_class' was deprecated in version 1.5 and will be removed in 1.7. From then on, it will always use 'multinomial'. Leave it to its default value to avoid this warning.\n",
            "  warnings.warn(\n",
            "/home/sutipong/anaconda3/lib/python3.13/site-packages/sklearn/linear_model/_logistic.py:1247: FutureWarning: 'multi_class' was deprecated in version 1.5 and will be removed in 1.7. From then on, it will always use 'multinomial'. Leave it to its default value to avoid this warning.\n",
            "  warnings.warn(\n",
            "/home/sutipong/anaconda3/lib/python3.13/site-packages/sklearn/linear_model/_logistic.py:1247: FutureWarning: 'multi_class' was deprecated in version 1.5 and will be removed in 1.7. From then on, it will always use 'multinomial'. Leave it to its default value to avoid this warning.\n",
            "  warnings.warn(\n",
            "/home/sutipong/anaconda3/lib/python3.13/site-packages/sklearn/linear_model/_logistic.py:1247: FutureWarning: 'multi_class' was deprecated in version 1.5 and will be removed in 1.7. From then on, it will always use 'multinomial'. Leave it to its default value to avoid this warning.\n",
            "  warnings.warn(\n"
          ]
        },
        {
          "name": "stdout",
          "output_type": "stream",
          "text": [
            "Accuracy on validation set: 85.88% (std = 0.02)\n"
          ]
        }
      ],
      "source": [
        "# Use this cell for your code\n",
        "\n",
        "from sklearn.linear_model import LogisticRegression\n",
        "model = LogisticRegression(multi_class=\"multinomial\", solver=\"lbfgs\")\n",
        "model.fit(X_train, y_train)\n",
        "\n",
        "\n",
        "results = cross_val_score(model, X, y, scoring=\"accuracy\")\n",
        "print('Accuracy on validation set: %.2f%% (std = %.2f)' % (results.mean()*100, results.std()))\n",
        "\n"
      ]
    },
    {
      "cell_type": "markdown",
      "metadata": {
        "id": "8YSdkvVqvRrA"
      },
      "source": [
        "4. In order to evaluate the model, let’s create our own dummy classifier that simply guesses the most common class in the training set (looking at the test set here would be cheating!). Then, evaluate your logistic regression model on the test data, and compare it to the majority class classifier. The logistic regression model should have significantly better accuracy as the dummy model is merely making a guess.\n",
        "\n",
        "    <span style=\"font-weight: 500\"> *Hint: Sklearn's DummyClassifier( ) might save you a bit of time.*</span>"
      ]
    },
    {
      "cell_type": "code",
      "execution_count": 64,
      "metadata": {
        "id": "3T-_cfYIvRrA"
      },
      "outputs": [
        {
          "name": "stdout",
          "output_type": "stream",
          "text": [
            "Accuracy on validation set with LogisticRegression: 85.88% (std = 0.02)\n",
            "Accuracy on validation set with DummyClassifier: 13.04% (std = 0.00)\n"
          ]
        }
      ],
      "source": [
        "# Use this cell for your code\n",
        "from sklearn.dummy import DummyClassifier\n",
        "\n",
        "dmodel = DummyClassifier(random_state=42)\n",
        "dmodel.fit(X_train, y_train)\n",
        "\n",
        "dresults = cross_val_score(dmodel, X, y, scoring=\"accuracy\")\n",
        "\n",
        "print('Accuracy on validation set with LogisticRegression: %.2f%% (std = %.2f)' % (results.mean()*100, results.std()))\n",
        "print('Accuracy on validation set with DummyClassifier: %.2f%% (std = %.2f)' % (dresults.mean()*100, dresults.std()))"
      ]
    },
    {
      "cell_type": "markdown",
      "metadata": {
        "id": "59WsDIEZvRrA"
      },
      "source": [
        "5. Plot some of the images that the logistic classifier misclassified. Can you think of an explanation why they were misclassified? Would you have gotten them right?\n",
        "    \n",
        "    <span style=\"font-weight: 500\">*Hint: Matplotlib has a [function](https://matplotlib.org/stable/api/_as_gen/matplotlib.pyplot.imshow.html) that can help you with plotting.*</span>"
      ]
    },
    {
      "cell_type": "code",
      "execution_count": 68,
      "metadata": {},
      "outputs": [
        {
          "name": "stdout",
          "output_type": "stream",
          "text": [
            "[[4.81152746e-04 9.99518846e-01 7.21362462e-21 ... 1.23275032e-14\n",
            "  4.42500034e-18 1.14476760e-10]\n",
            " [1.00000000e+00 1.96842974e-26 3.27285427e-15 ... 1.61541587e-26\n",
            "  8.87478268e-26 3.23813841e-21]\n",
            " [1.79420512e-14 1.94242193e-21 1.93331419e-05 ... 8.88785588e-23\n",
            "  2.40039917e-12 2.27726352e-21]\n",
            " ...\n",
            " [1.65571187e-21 3.07436525e-22 5.77103005e-20 ... 3.11717462e-23\n",
            "  2.45393726e-09 3.12400794e-05]\n",
            " [1.16727017e-19 1.31124678e-18 9.15328471e-20 ... 1.54952234e-20\n",
            "  3.87166989e-10 2.14599493e-25]\n",
            " [1.74936455e-16 2.22800595e-12 2.27317350e-18 ... 1.00771088e-11\n",
            "  5.90205060e-04 3.66407718e-09]]\n",
            "Number of misclassified samples: 27\n"
          ]
        },
        {
          "data": {
            "image/png": "[encoded data removed]",
            "text/plain": [
              "<Figure size 1800x200 with 9 Axes>"
            ]
          },
          "metadata": {},
          "output_type": "display_data"
        }
      ],
      "source": [
        "import numpy as np\n",
        "import matplotlib.pyplot as plt\n",
        "\n",
        "y_pred = model.predict(X_test)\n",
        "probs = model.predict_proba(X_test)\n",
        "\n",
        "print(probs)\n",
        "\n",
        "mis_idx = np.where(y_pred != y_test)[0]\n",
        "print(f\"Number of misclassified samples: {len(mis_idx)}\")\n",
        "\n",
        "n_show = min(9, len(mis_idx))\n",
        "\n",
        "cols = n_show\n",
        "fig, axes = plt.subplots(1, cols, figsize=(2*cols, 2))\n",
        "if cols == 1:\n",
        "    axes = [axes]\n",
        "for ax, idx in zip(axes, mis_idx[:n_show]):\n",
        "    ax.imshow(X_test[idx].reshape(32,32), cmap=\"gray_r\")\n",
        "    top_prob = probs[idx].max()\n",
        "    ax.set_title(f\"true:{y_test[idx]} pred:{y_pred[idx]}\")\n",
        "    ax.axis(\"off\")\n",
        "    \n",
        "plt.show()"
      ]
    },
    {
      "cell_type": "markdown",
      "metadata": {
        "id": "6QK_c3BtvRrA"
      },
      "source": [
        "Here are some examples of the syntax used to fit a logistic regression classifier (using Sklearn or statsmodel with Python, or GLM with R):"
      ]
    },
    {
      "cell_type": "code",
      "execution_count": null,
      "metadata": {
        "id": "5j6uqp_xvRrA"
      },
      "outputs": [],
      "source": [
        "#Sklearn (python)\n",
        "\n",
        "#from sklearn.linear_model import LogisticRegression\n",
        "\n",
        "#Fit on the training data set, with:\n",
        "#X : {array-like, sparse matrix}, shape (n_samples, n_features) , n_samples rows x n_features columns\n",
        "#with attributes that describe each sample.\n",
        "#y : array-like, shape (n_samples,) , n_samples target values for each sample.\n",
        "\n",
        "#model = LogisticRegression()\n",
        "#model.fit(X, y)"
      ]
    },
    {
      "cell_type": "code",
      "execution_count": null,
      "metadata": {
        "id": "W2bLFxM5vRrB"
      },
      "outputs": [],
      "source": [
        "#Statsmodels (python)\n",
        "\n",
        "#import statsmodels.api as sm\n",
        "#model = sm.Logit(y, X)"
      ]
    },
    {
      "cell_type": "code",
      "execution_count": null,
      "metadata": {
        "id": "bAguOrDzvRrB"
      },
      "outputs": [],
      "source": [
        "#GLM (R)\n",
        "\n",
        "#model <- glm(y ~.,family=binomial(link='logit'), data=X)"
      ]
    },
    {
      "cell_type": "code",
      "execution_count": null,
      "metadata": {
        "id": "oJuyAVmtvRrB"
      },
      "outputs": [],
      "source": [
        "# Use this cell for your code"
      ]
    },
    {
      "cell_type": "markdown",
      "metadata": {
        "id": "_-I7ERLhvRrB"
      },
      "source": [
        "**Remember to submit your code on the MOOC platform. You can return this Jupyter notebook (.ipynb) or .py, .R, etc depending on your programming preferences.**"
      ]
    }
  ],
  "metadata": {
    "colab": {
      "provenance": []
    },
    "kernelspec": {
      "display_name": "base",
      "language": "python",
      "name": "python3"
    },
    "language_info": {
      "codemirror_mode": {
        "name": "ipython",
        "version": 3
      },
      "file_extension": ".py",
      "mimetype": "text/x-python",
      "name": "python",
      "nbconvert_exporter": "python",
      "pygments_lexer": "ipython3",
      "version": "3.13.5"
    }
  },
  "nbformat": 4,
  "nbformat_minor": 0
}
