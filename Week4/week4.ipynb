{
  "cells": [
    {
      "cell_type": "markdown",
      "metadata": {},
      "source": [
        "# Introduction to Data Science 2025\n",
        "\n",
        "# Week 4"
      ]
    },
    {
      "cell_type": "markdown",
      "metadata": {},
      "source": [
        "In this week's exercise, we look at prompting and zero- and few-shot task settings. Below is a text generation example from https://github.com/TurkuNLP/intro-to-nlp/blob/master/text_generation_pipeline_example.ipynb demonstrating how to load a text generation pipeline with a pre-trained model and generate text with a given prompt. Your task is to load a similar pre-trained generative model and assess whether the model succeeds at a set of tasks in zero-shot, one-shot, and two-shot settings.\n",
        "\n",
        "**Note: Downloading and running the pre-trained model locally may take some time. Alternatively, you can open and run this notebook on [Google Colab](https://colab.research.google.com/), as assumed in the following example.**"
      ]
    },
    {
      "cell_type": "markdown",
      "metadata": {
        "id": "tIQ1s96UCcJW"
      },
      "source": [
        "## Text generation example\n",
        "\n",
        "This is a brief example of how to run text generation with a causal language model and `pipeline`.\n",
        "\n",
        "Install [transformers](https://huggingface.co/docs/transformers/index) python package. This will be used to load the model and tokenizer and to run generation."
      ]
    },
    {
      "cell_type": "code",
      "execution_count": null,
      "metadata": {
        "id": "4fUBJmXHCHw-"
      },
      "outputs": [],
      "source": [
        "# !pip install --quiet transformers"
      ]
    },
    {
      "cell_type": "markdown",
      "metadata": {
        "id": "5ZRNZgRJCt6Q"
      },
      "source": [
        "Import the `AutoTokenizer`, `AutoModelForCausalLM`, and `pipeline` classes. The first two support loading tokenizers and generative models from the [Hugging Face repository](https://huggingface.co/models), and the last wraps a tokenizer and a model for convenience."
      ]
    },
    {
      "cell_type": "code",
      "execution_count": 1,
      "metadata": {
        "id": "jwyK005xCFSF"
      },
      "outputs": [
        {
          "name": "stderr",
          "output_type": "stream",
          "text": [
            "/home/sutipong/School/Introduction2DataScience/Exercies/venv/lib/python3.10/site-packages/tqdm/auto.py:21: TqdmWarning: IProgress not found. Please update jupyter and ipywidgets. See https://ipywidgets.readthedocs.io/en/stable/user_install.html\n",
            "  from .autonotebook import tqdm as notebook_tqdm\n",
            "2025-09-25 18:58:21.370542: I external/local_xla/xla/tsl/cuda/cudart_stub.cc:31] Could not find cuda drivers on your machine, GPU will not be used.\n",
            "2025-09-25 18:58:21.379413: I tensorflow/core/util/port.cc:153] oneDNN custom operations are on. You may see slightly different numerical results due to floating-point round-off errors from different computation orders. To turn them off, set the environment variable `TF_ENABLE_ONEDNN_OPTS=0`.\n",
            "2025-09-25 18:58:21.649082: I tensorflow/core/platform/cpu_feature_guard.cc:210] This TensorFlow binary is optimized to use available CPU instructions in performance-critical operations.\n",
            "To enable the following instructions: AVX2 AVX512F AVX512_VNNI FMA, in other operations, rebuild TensorFlow with the appropriate compiler flags.\n",
            "2025-09-25 18:58:23.415848: I tensorflow/core/util/port.cc:153] oneDNN custom operations are on. You may see slightly different numerical results due to floating-point round-off errors from different computation orders. To turn them off, set the environment variable `TF_ENABLE_ONEDNN_OPTS=0`.\n",
            "2025-09-25 18:58:23.416972: I external/local_xla/xla/tsl/cuda/cudart_stub.cc:31] Could not find cuda drivers on your machine, GPU will not be used.\n"
          ]
        }
      ],
      "source": [
        "\n",
        "from transformers import AutoTokenizer, AutoModelForCausalLM, pipeline"
      ]
    },
    {
      "cell_type": "markdown",
      "metadata": {
        "id": "6QJPDe3ZC_sL"
      },
      "source": [
        "Load a generative model and its tokenizer. You can substitute any other generative model name here (e.g. [other TurkuNLP GPT-3 models](https://huggingface.co/models?sort=downloads&search=turkunlp%2Fgpt3)), but note that Colab may have issues running larger models. "
      ]
    },
    {
      "cell_type": "code",
      "execution_count": 2,
      "metadata": {
        "id": "wqTxn_QaCNjZ"
      },
      "outputs": [],
      "source": [
        "MODEL_NAME = 'TurkuNLP/gpt3-finnish-large'\n",
        "\n",
        "tokenizer = AutoTokenizer.from_pretrained(MODEL_NAME)\n",
        "model = AutoModelForCausalLM.from_pretrained(MODEL_NAME)"
      ]
    },
    {
      "cell_type": "markdown",
      "metadata": {
        "id": "9ADWWb77e1sY"
      },
      "source": [
        "Instantiate a text generation pipeline using the tokenizer and model."
      ]
    },
    {
      "cell_type": "code",
      "execution_count": 3,
      "metadata": {
        "id": "0IIJzNrEe5qx"
      },
      "outputs": [
        {
          "name": "stderr",
          "output_type": "stream",
          "text": [
            "Device set to use cpu\n"
          ]
        }
      ],
      "source": [
        "pipe = pipeline(\n",
        "    'text-generation',\n",
        "    model=model,\n",
        "    tokenizer=tokenizer,\n",
        "    device=model.device\n",
        ")"
      ]
    },
    {
      "cell_type": "markdown",
      "metadata": {
        "id": "eAohNr1ciwaU"
      },
      "source": [
        "We can now call the pipeline with a text prompt; it will take care of tokenizing, encoding, generation, and decoding:"
      ]
    },
    {
      "cell_type": "code",
      "execution_count": 4,
      "metadata": {
        "colab": {
          "base_uri": "https://localhost:8080/"
        },
        "id": "jWcOJkiKi5vr",
        "outputId": "11cb09ab-310d-438e-e372-ef8d7f8f66a2"
      },
      "outputs": [
        {
          "name": "stdout",
          "output_type": "stream",
          "text": [
            "[{'generated_text': 'Terve, miten menee?”\\n”Ihan hyvin.”\\n”Kiva, että pääsit käymään”, rouva sanoi ja nyökkäsi kohti pientä keittiötä. ”Sa'}]\n"
          ]
        }
      ],
      "source": [
        "output = pipe('Terve, miten menee?', max_new_tokens=25)\n",
        "\n",
        "print(output)"
      ]
    },
    {
      "cell_type": "markdown",
      "metadata": {
        "id": "SNRMsxXOjSo0"
      },
      "source": [
        "Just print the text"
      ]
    },
    {
      "cell_type": "code",
      "execution_count": 5,
      "metadata": {
        "colab": {
          "base_uri": "https://localhost:8080/"
        },
        "id": "9Op7MJ6XjahG",
        "outputId": "5d9e26dd-3e80-4663-a712-d85093fad073"
      },
      "outputs": [
        {
          "name": "stdout",
          "output_type": "stream",
          "text": [
            "Terve, miten menee?”\n",
            "”Ihan hyvin.”\n",
            "”Kiva, että pääsit käymään”, rouva sanoi ja nyökkäsi kohti pientä keittiötä. ”Sa\n"
          ]
        }
      ],
      "source": [
        "print(output[0]['generated_text'])"
      ]
    },
    {
      "cell_type": "markdown",
      "metadata": {
        "id": "YROp3hyikXPO"
      },
      "source": [
        "We can also call the pipeline with any arguments that the model `generate` function supports. For details on text generation using `transformers`, see e.g. [this tutorial](https://huggingface.co/blog/how-to-generate).\n",
        "\n",
        "Example with sampling and a high `temperature` parameter to generate more chaotic output:"
      ]
    },
    {
      "cell_type": "code",
      "execution_count": 6,
      "metadata": {
        "colab": {
          "base_uri": "https://localhost:8080/"
        },
        "id": "22QjXE88jkim",
        "outputId": "372a4fc2-e305-4034-cea3-a52b6103c24f"
      },
      "outputs": [
        {
          "name": "stdout",
          "output_type": "stream",
          "text": [
            "Terve, miten menee? Kuinka koulussa pärjäillyt?\n",
            "\n",
            "Laajennampega kirjoitti: Jos vaikka pistäytyisi illalla ja kertoisi nyt jo kaiken. Eilen olisi tapahtunut pari juttua\n"
          ]
        }
      ],
      "source": [
        "output = pipe(\n",
        "    'Terve, miten menee?',\n",
        "    do_sample=True,\n",
        "    temperature=10.0,\n",
        "    max_new_tokens=25\n",
        ")\n",
        "\n",
        "print(output[0]['generated_text'])"
      ]
    },
    {
      "cell_type": "markdown",
      "metadata": {},
      "source": [
        "## Exercise 1\n",
        "\n",
        "Your task is to assess whether a generative model succeeds in the following tasks in zero-shot, one-shot, and two-shot settings:\n",
        "\n",
        "- binary sentiment classification (positive / negative)\n",
        "\n",
        "- person name recognition\n",
        "\n",
        "- two-digit addition (e.g. 11 + 22 = 33)\n",
        "\n",
        "For example, for assessing whether a generative model can name capital cities, we could use the following prompts:\n",
        "\n",
        "- zero-shot:\n",
        "\t>\"\"\"\\\n",
        "\t>Identify the capital cities of countries.\n",
        "\t>\n",
        "\t>Question: What is the capital of Finland?\\\n",
        "\t>Answer:\\\n",
        "\t>\"\"\"\n",
        "- one-shot:\n",
        "\t>\"\"\"\\\n",
        "\t>Identify the capital cities of countries.\n",
        "\t>\n",
        "\t>Question: What is the capital of Sweden?\\\n",
        "\t>Answer: Stockholm\n",
        "\t>\n",
        "\t>Question: What is the capital of Finland?\\\n",
        "\t>Answer:\\\n",
        "\t>\"\"\"\n",
        "- two-shot:\n",
        "\t>\"\"\"\\\n",
        "\t>Identify the capital cities of countries.\n",
        "\t>\n",
        "\t>Question: What is the capital of Sweden?\\\n",
        "\t>Answer: Stockholm\n",
        "\t>\n",
        "\t>Question: What is the capital of Denmark?\\\n",
        "\t>Answer: Copenhagen\n",
        "\t>\n",
        "\t>Question: What is the capital of Finland?\\\n",
        "\t>Answer:\\\n",
        "\t>\"\"\"\n",
        "\n",
        "You can do the tasks either in English or Finnish and use a generative model of your choice from the Hugging Face models repository, for example the following models:\n",
        "\n",
        "- English: `gpt2-large`\n",
        "- Finnish: `TurkuNLP/gpt3-finnish-large`\n",
        "\n",
        "You can either come up with your own instructions for the tasks or use the following:\n",
        "\n",
        "- English:\n",
        "\t- binary sentiment classification: \"Do the following texts express a positive or negative sentiment?\"\n",
        "\t- person name recognition: \"List the person names occurring in the following texts.\"\n",
        "\t- two-digit addition: \"This is a first grade math exam.\"\n",
        "- Finnish:\n",
        "\t- binary sentiment classification: \"Ilmaisevatko seuraavat tekstit positiivista vai negatiivista tunnetta?\"\n",
        "\t- person name recognition: \"Listaa seuraavissa teksteissä mainitut henkilönnimet.\"\n",
        "\t- two-digit addition: \"Tämä on ensimmäisen luokan matematiikan koe.\"\n",
        "\n",
        "Come up with at least two test cases for each of the three tasks, and come up with your own one- and two-shot examples."
      ]
    },
    {
      "cell_type": "code",
      "execution_count": 11,
      "metadata": {},
      "outputs": [
        {
          "name": "stderr",
          "output_type": "stream",
          "text": [
            "Device set to use cpu\n"
          ]
        },
        {
          "name": "stdout",
          "output_type": "stream",
          "text": [
            "***Sentiment Zero-shot***\n",
            "\n",
            "\n",
            "Ilmaisevatko seuraavat tekstit positiivista vai negatiivista tunnetta?\n",
            "\n",
            "Teksti: Tämä elokuva oli todella hieno ja viihdyttävä!\n",
            "Vastaus: Kyllä se oli positiivinen.\n",
            "\n",
            "-------------------------------------------------\n",
            "\n",
            "***Sentiment One-shot***\n",
            "\n",
            "\n",
            "Ilmaisevatko seuraavat tekstit positiivista vai negatiivista tunnetta?\n",
            "\n",
            "Teksti: Palvelu oli erinomaista ja henkilökunta ystävällistä.\n",
            "Vastaus: positiivista\n",
            "\n",
            "Teksti: Tämä elokuva oli todella hieno ja viihdyttävä!\n",
            "Vastaus:\n",
            "negatiivista\n",
            "\n",
            "Teksti: Tämä elokuva oli todella hyvä! Viihdyttävä ja koskettava.\n",
            "Vastaus:\n",
            "negatiivista\n",
            "Vastaus: negatiivista\n",
            "29.10.2012\n",
            "Millainen kokemus sinulle oli käydä kaupassa?\n",
            "Vastaus:\n",
            "negatiivista\n",
            "29.10.2012\n",
            "Miten kuvailisit seuraavan tekstin sisältämää tunnetta? Mitä sana ”onnellinen” merkitsee sinulle? Mitä tunteita tai ajatuksia teksti herättää?\n",
            "Vastaus:\n",
            "negatiivista\n",
            "29.10.2012\n",
            "Miten kuvailisit seuraavan tekstin sisältämää tunnetta? Mitä sana ”ilo” merkitsee sinulle\n",
            "\n",
            "-------------------------------------------------\n",
            "\n",
            "***Sentiment Two-shot***\n",
            "\n",
            "\n",
            "Ilmaisevatko seuraavat tekstit positiivista vai negatiivista tunnetta?\n",
            "\n",
            "Teksti: Palvelu oli erinomaista ja henkilökunta ystävällistä.\n",
            "Vastaus: positiivista\n",
            "\n",
            "Teksti: Ruoka oli kylmää ja mauton. En suosittele.\n",
            "Vastaus: negatiivista\n",
            "\n",
            "Teksti: Tämä elokuva oli todella hieno ja viihdyttävä!\n",
            "Vastaus: positiivista\n",
            "\n",
            "Teksti: Tämä ravintola oli todella hyvä.\n",
            "Vastaus: positiivista\n",
            "\n",
            "Kirjoittaja: Tämä ravintola oli erinomainen.\n",
            "Vastaus: positiivista\n",
            "\n",
            "Kirjoittaja: Tämä ravintola oli erittäin hyvä.\n",
            "Vastaus: positiivista\n",
            "\n",
            "Kirjoittaja: Tämä ravintola oli todella hyvä.\n",
            "Vastaus: positiivista\n",
            "\n",
            "•  Onko ravintolakokemus positiivinen vai negatiivinen?\n",
            "•  Miten kokemus vaikuttaa siihen, jääkö asiakas palveluun tyytyväisenä?\n",
            "•  Mikä vaikuttaa asiakkaan kokemukseen positiivisesti ja mikä negatiivisesti?\n",
            "•  Millainen on asiakkaan kokemus ravintolasta?\n",
            "•  Miten ravintolan pitäisi kehittää asiakaskokemusta?\n",
            "•  Mitä asiakas voi tehdä, jos asiakaskokemus on negatiivinen\n",
            "\n",
            "-------------------------------------------------\n",
            "\n",
            "***Names Zero-shot***\n",
            "\n",
            "\n",
            "Listaa seuraavissa teksteissä mainitut henkilönnimet.\n",
            "\n",
            "Teksti: Matti ja Liisa menivät kauppaan. He tapasivat siellä Pekan.\n",
            "Henkilönnimet:\n",
            "Matti ja Liisa ostivat kaupasta perunoita. Myyjä kysyi, mitä he ostivat.\n",
            "Henkilönnimet:\n",
            "Myyjä kysyi, mitä he ostivat.\n",
            "\n",
            "-------------------------------------------------\n",
            "\n",
            "***Names One-shot***\n",
            "\n",
            "\n",
            "Listaa seuraavissa teksteissä mainitut henkilönnimet.\n",
            "\n",
            "Teksti: Anna soitti Jukalle eilen illalla.\n",
            "Henkilönnimet: Anna, Jukka\n",
            "\n",
            "Teksti: Matti ja Liisa menivät kauppaan. He tapasivat siellä Pekan.\n",
            "Henkilönnimet: Pekka, Matti\n",
            "\n",
            "Teksti: Risto ja Jukka menivät ravintolaan. Risto tapasi siellä Jukan.\n",
            "\n",
            "Teksti: Minna ja Mikko menivät kauppaan. He valitsivat sieltä itselleen ruokaa.\n",
            "Henkilönnimet: Minna, Mikko\n",
            "\n",
            "Teksti: Matti ja Liisa menivät kauppaan. He ostivat sieltä itselleen ruokaa.\n",
            "Henkilönnimet: Matti, Liisa\n",
            "\n",
            "Teksti: Minna ja Mikko menivät ravintolaan. He valitsivat sieltä itselleen ruokaa.\n",
            "Henkilönnimet: Minna, Mikko\n",
            "\n",
            "-------------------------------------------------\n",
            "\n",
            "***Names Two-shot***\n",
            "\n",
            "\n",
            "Listaa seuraavissa teksteissä mainitut henkilönnimet.\n",
            "\n",
            "Teksti: Anna soitti Jukalle eilen illalla.\n",
            "Henkilönnimet: Anna, Jukka\n",
            "\n",
            "Teksti: Professori Virtanen piti luennon. Opiskelija Koskinen kysyi kysymyksen.\n",
            "Henkilönnimet: Virtanen, Koskinen\n",
            "\n",
            "Teksti: Matti ja Liisa menivät kauppaan. He tapasivat siellä Pekan.\n",
            "Henkilönnimet: Pekka, Matti\n",
            "\n",
            "Teksti: Matti ja Liisa olivat kävelyllä. He poikkesivat kahvilaan. He tapasivat siellä Jorin.\n",
            "Henkilönnimet: Pekka, Matti\n",
            "\n",
            "Kuvat: Anna ja Jukka\n",
            "\n",
            "Kuvat: Anna ja Jukka\n",
            "9789520116615_Esseita_osa_I_final-169\n",
            "\n",
            "151 | III:6 »Hän ei ole koskaan tuntenut iloa, vaan on aina ollut surullinen.»\n",
            "\n",
            "151 | III:6 »Hän ei ole koskaan tuntenut iloa, vaan on aina ollut\n",
            "\n",
            "-------------------------------------------------\n",
            "\n",
            "***Math Zero-shot***\n",
            "\n",
            "\n",
            "Tämä on ensimmäisen luokan matematiikan koe.\n",
            "\n",
            "Tehtävä: 23 + 45 = ?\n",
            "Vastaus:\n",
            "Tehtävä 23\n",
            "\n",
            "Lähettäjä:\n",
            "Kysymys:\n",
            "Miksi tehtävät 23 ja 24 ovat samoja?\n",
            "Vastaus:\n",
            "Tehtävä 23\n",
            "Lähettäjä:\n",
            "Kysymys:\n",
            "Tehtävä 3\n",
            "Vastaus:\n",
            "Tehtävä 3\n",
            "Lähettäjä:\n",
            "Kysymys:\n",
            "Mikä on 3. tehtävän vastaus?\n",
            "Vastaus:\n",
            "Tehtävä 3\n",
            "Vastaus:\n",
            "Tehtävä 3\n",
            "Vastaus:\n",
            "Tehtävä 3\n",
            "Tehtävä 3\n",
            "Vastaus:\n",
            "Tehtävä 3\n",
            "Tehtävä 3\n",
            "Vastaus:\n",
            "Tehtävä 2\n",
            "Lähettäjä:\n",
            "Kysymys:\n",
            "Miksi tehtävän 2 oikea vastaus on 1? Vastaus:\n",
            "Tehtävä 2\n",
            "Tehtävä 2\n",
            "Kysymys:\n",
            "Miksi tehtävässä 1\n",
            "\n",
            "-------------------------------------------------\n",
            "\n",
            "***Math One-shot***\n",
            "\n",
            "\n",
            "Tämä on ensimmäisen luokan matematiikan koe.\n",
            "\n",
            "Tehtävä: 12 + 34 = ?\n",
            "Vastaus: 46\n",
            "\n",
            "Tehtävä: 23 + 45 = ?\n",
            "Vastaus: 16\n",
            "\n",
            "Tehtävä: 7 + 35 =? Vastaus: 22\n",
            "\n",
            "Tehtävä: 6 + 4 =? Vastaus: 22\n",
            "\n",
            "Tehtävä: 6 + 3 =? Vastaus: 22\n",
            "\n",
            "Tehtävä: 6 + 2 =? Vastaus: 22\n",
            "\n",
            "Tehtävä: 6 + 1 =? Vastaus: 22\n",
            "\n",
            "Tehtävä: 4 + 2 =? Vastaus: 22\n",
            "\n",
            "Tehtävä: 4 + 2 =? Vastaus: 22\n",
            "\n",
            "Tehtävä: 3 + 1 =? Vastaus: 22\n",
            "\n",
            "Tehtävä: 3 + 1 =? Vastaus: 22\n",
            "\n",
            "Tehtävä: 1 + 1 =? Vastaus:\n",
            "\n",
            "-------------------------------------------------\n",
            "\n",
            "***Math Two-shot***\n",
            "\n",
            "\n",
            "Tämä on ensimmäisen luokan matematiikan koe.\n",
            "\n",
            "Tehtävä: 12 + 34 = ?\n",
            "Vastaus: 46\n",
            "\n",
            "Tehtävä: 56 + 78 = ?\n",
            "Vastaus: 134\n",
            "\n",
            "Tehtävä: 23 + 45 = ?\n",
            "Vastaus: 47\n",
            "\n",
            "-------------------------------------------------\n",
            "\n",
            "***Custom One-shot***\n",
            "\n",
            "\n",
            "Tunnista ohjelmointikieli\n",
            "\n",
            "Syntaksi: console.log(\"Hello world!\");\n",
            "Vastaus: Javascript\n",
            "\n",
            "Syntaksi: print(\"Hello world!\");\n",
            "Vastuaus:\n",
            "Javascript\n",
            "\n",
            "Selitys:\n",
            "\n",
            "Se on käskyjoukko, joka näyttää käyttäjän kirjoittaman tekstin (javascript=javascript). Javascriptin avulla voit esimerkiksi lukea tekstin ja suorittaa komentoja, jotka liittyvät siihen.\n",
            "Esimerkiksi:\n",
            "Olet kirjoittanut tekstin ja haluat tulostaa sen paperille. Kirjoita: print(\"print\");\n",
            "Vastaus on print(\"print(\"print\")\").\n",
            "Jos kirjoitat tekstin uudelleen ja painat Print(\"print\")-painiketta, teksti\n",
            "\n",
            "-------------------------------------------------\n",
            "\n",
            "***Custom Two-shot***\n",
            "\n",
            "\n",
            "Tunnista ohjelmointikieli\n",
            "\n",
            "Syntaksi: console.log(\"Hello world!\");\n",
            "Vastaus: Javascript\n",
            "\n",
            "Syntaksi: print(\"Hello world!\");\n",
            "Vastuaus: Python\n",
            "\n",
            "Syntaksi: System.out.println(\"Hello world!\");\n",
            "Vastuaus: \n",
            "Node.js\n",
            "Javascript:\n",
            "JQuery:\n",
            "VBScript:\n",
            "Javascript:\n",
            "Javascript:\n",
            "Javascript:\n",
            "Javascript:\n",
            "CSS:\n",
            "\n",
            "Javascript:\n",
            "PHP:\n",
            "Javascript:\n",
            "CSS:\n",
            "Javascript:\n",
            "\n",
            "Javascript:\n",
            "\n",
            "Javascript:\n",
            "Javascript:\n",
            "CSS:\n",
            "\n",
            "Javascript:\n",
            "\n",
            "Javascript:\n",
            "CSS:\n",
            "\n",
            "\n",
            "-------------------------------------------------\n",
            "\n"
          ]
        }
      ],
      "source": [
        "from transformers import AutoTokenizer, AutoModelForCausalLM, pipeline\n",
        "\n",
        "MODEL_NAME = 'TurkuNLP/gpt3-finnish-large'\n",
        "\n",
        "tokenizer = AutoTokenizer.from_pretrained(MODEL_NAME)\n",
        "model = AutoModelForCausalLM.from_pretrained(MODEL_NAME)\n",
        "\n",
        "pipe = pipeline(\n",
        "    'text-generation',\n",
        "    model=model,\n",
        "    tokenizer=tokenizer,\n",
        "    device=model.device  \n",
        ")\n",
        "\n",
        "\n",
        "sentiment_zero = \"\"\"\n",
        "Ilmaisevatko seuraavat tekstit positiivista vai negatiivista tunnetta?\n",
        "\n",
        "Teksti: Tämä elokuva oli todella hieno ja viihdyttävä!\n",
        "Vastaus:\"\"\"\n",
        "\n",
        "sentiment_one = \"\"\"\n",
        "Ilmaisevatko seuraavat tekstit positiivista vai negatiivista tunnetta?\n",
        "\n",
        "Teksti: Palvelu oli erinomaista ja henkilökunta ystävällistä.\n",
        "Vastaus: positiivista\n",
        "\n",
        "Teksti: Tämä elokuva oli todella hieno ja viihdyttävä!\n",
        "Vastaus:\"\"\"\n",
        "\n",
        "sentiment_two = \"\"\"\n",
        "Ilmaisevatko seuraavat tekstit positiivista vai negatiivista tunnetta?\n",
        "\n",
        "Teksti: Palvelu oli erinomaista ja henkilökunta ystävällistä.\n",
        "Vastaus: positiivista\n",
        "\n",
        "Teksti: Ruoka oli kylmää ja mauton. En suosittele.\n",
        "Vastaus: negatiivista\n",
        "\n",
        "Teksti: Tämä elokuva oli todella hieno ja viihdyttävä!\n",
        "Vastaus:\"\"\"\n",
        "\n",
        "\n",
        "names_zero = \"\"\"\n",
        "Listaa seuraavissa teksteissä mainitut henkilönnimet.\n",
        "\n",
        "Teksti: Matti ja Liisa menivät kauppaan. He tapasivat siellä Pekan.\n",
        "Henkilönnimet:\"\"\"\n",
        "\n",
        "names_one = \"\"\"\n",
        "Listaa seuraavissa teksteissä mainitut henkilönnimet.\n",
        "\n",
        "Teksti: Anna soitti Jukalle eilen illalla.\n",
        "Henkilönnimet: Anna, Jukka\n",
        "\n",
        "Teksti: Matti ja Liisa menivät kauppaan. He tapasivat siellä Pekan.\n",
        "Henkilönnimet:\"\"\"\n",
        "\n",
        "names_two = \"\"\"\n",
        "Listaa seuraavissa teksteissä mainitut henkilönnimet.\n",
        "\n",
        "Teksti: Anna soitti Jukalle eilen illalla.\n",
        "Henkilönnimet: Anna, Jukka\n",
        "\n",
        "Teksti: Professori Virtanen piti luennon. Opiskelija Koskinen kysyi kysymyksen.\n",
        "Henkilönnimet: Virtanen, Koskinen\n",
        "\n",
        "Teksti: Matti ja Liisa menivät kauppaan. He tapasivat siellä Pekan.\n",
        "Henkilönnimet:\"\"\"\n",
        "\n",
        "math_zero = \"\"\"\n",
        "Tämä on ensimmäisen luokan matematiikan koe.\n",
        "\n",
        "Tehtävä: 23 + 45 = ?\n",
        "Vastaus:\"\"\"\n",
        "\n",
        "math_one = \"\"\"\n",
        "Tämä on ensimmäisen luokan matematiikan koe.\n",
        "\n",
        "Tehtävä: 12 + 34 = ?\n",
        "Vastaus: 46\n",
        "\n",
        "Tehtävä: 23 + 45 = ?\n",
        "Vastaus:\"\"\"\n",
        "\n",
        "math_two = \"\"\"\n",
        "Tämä on ensimmäisen luokan matematiikan koe.\n",
        "\n",
        "Tehtävä: 12 + 34 = ?\n",
        "Vastaus: 46\n",
        "\n",
        "Tehtävä: 56 + 78 = ?\n",
        "Vastaus: 134\n",
        "\n",
        "Tehtävä: 23 + 45 = ?\n",
        "Vastaus:\"\"\"\n",
        "\n",
        "custom_one = \"\"\"\n",
        "Tunnista ohjelmointikieli\n",
        "\n",
        "Syntaksi: console.log(\"Hello world!\");\n",
        "Vastaus: Javascript\n",
        "\n",
        "Syntaksi: print(\"Hello world!\");\n",
        "Vastuaus:\n",
        "\"\"\"\n",
        "\n",
        "custom_two = \"\"\"\n",
        "Tunnista ohjelmointikieli\n",
        "\n",
        "Syntaksi: console.log(\"Hello world!\");\n",
        "Vastaus: Javascript\n",
        "\n",
        "Syntaksi: print(\"Hello world!\");\n",
        "Vastuaus: Python\n",
        "\n",
        "Syntaksi: System.out.println(\"Hello world!\");\n",
        "Vastuaus: \n",
        "\"\"\"\n",
        "\n",
        "prompts = {\n",
        "    \"Sentiment Zero-shot\": sentiment_zero,\n",
        "    \"Sentiment One-shot\": sentiment_one,\n",
        "    \"Sentiment Two-shot\": sentiment_two,\n",
        "    \"Names Zero-shot\": names_zero,\n",
        "    \"Names One-shot\": names_one,\n",
        "    \"Names Two-shot\": names_two,\n",
        "    \"Math Zero-shot\": math_zero,\n",
        "    \"Math One-shot\": math_one,\n",
        "    \"Math Two-shot\": math_two,\n",
        "    \"Custom One-shot\": custom_one,\n",
        "    \"Custom Two-shot\": custom_two\n",
        "}\n",
        "\n",
        "for task_name, prompt in prompts.items():\n",
        "    print(f\"***{task_name}***\")\n",
        "    print(\"\")\n",
        "    output = pipe(prompt, max_new_tokens=100, do_sample=True, temperature=0.7)\n",
        "    print(output[0]['generated_text'])\n",
        "    print(\"\")\n",
        "    print(\"-------------------------------------------------\")\n",
        "    print(\"\")"
      ]
    },
    {
      "cell_type": "markdown",
      "metadata": {},
      "source": [
        "**Submit this exercise by submitting your code and your answers to the above questions as comments on the MOOC platform. You can return this Jupyter notebook (.ipynb) or .py, .R, etc depending on your programming preferences.**"
      ]
    },
    {
      "cell_type": "markdown",
      "metadata": {},
      "source": []
    }
  ],
  "metadata": {
    "colab": {
      "authorship_tag": "ABX9TyMPTKW2dgboQJpXpHYIBCHp",
      "include_colab_link": true,
      "provenance": []
    },
    "kernelspec": {
      "display_name": "venv (3.10.12)",
      "language": "python",
      "name": "python3"
    },
    "language_info": {
      "codemirror_mode": {
        "name": "ipython",
        "version": 3
      },
      "file_extension": ".py",
      "mimetype": "text/x-python",
      "name": "python",
      "nbconvert_exporter": "python",
      "pygments_lexer": "ipython3",
      "version": "3.10.12"
    }
  },
  "nbformat": 4,
  "nbformat_minor": 0
}
