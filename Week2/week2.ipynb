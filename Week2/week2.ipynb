{
 "cells": [
  {
   "cell_type": "markdown",
   "metadata": {
    "id": "Uc96HGV0pYkJ"
   },
   "source": [
    "# Introduction to Data Science 2025\n",
    "\n",
    "# Week 2"
   ]
  },
  {
   "cell_type": "markdown",
   "metadata": {
    "id": "zWh-qfRJpYkK"
   },
   "source": [
    "## Exercise 1 | Titanic: data preprocessing and imputation\n",
    "<span style=\"font-weight: bold\"> *Note: You can find tutorials for NumPy and Pandas under 'Useful tutorials' in the course material.*</span>"
   ]
  },
  {
   "cell_type": "markdown",
   "metadata": {
    "id": "OZy31vJxpYkK"
   },
   "source": [
    "Download the [Titanic dataset](https://www.kaggle.com/c/titanic) [train.csv] from Kaggle or <span style=\"font-weight: 500\">directly from the course material</span>, and complete the following exercises. If you choose to download the dataset from Kaggle, you will need to create a Kaggle account unless you already have one, but it is quite straightforward.\n",
    "\n",
    "The dataset consists of personal information of all the passengers on board the RMS Titanic, along with information about whether they survived the iceberg collision or not.\n",
    "\n",
    "1. Your first task is to read the data file and print the shape of the data.\n",
    "\n",
    "    <span style=\"font-weight: 500\"> *Hint 1: You can read them into a Pandas dataframe if you wish.*</span>\n",
    "    \n",
    "    <span style=\"font-weight: 500\"> *Hint 2: The shape of the data should be (891, 12).*</span>"
   ]
  },
  {
   "cell_type": "code",
   "execution_count": null,
   "metadata": {
    "id": "l4kCNDespYkK"
   },
   "outputs": [],
   "source": [
    "# Use this cell for your code\n",
    "import pandas as pd\n",
    "import numpy as np\n",
    "\n",
    "df = pd.read_csv(\"assets/train.csv\")\n",
    "df.shape\n"
   ]
  },
  {
   "cell_type": "markdown",
   "metadata": {
    "id": "VCZoOS-wpYkL"
   },
   "source": [
    "2. Let's look at the data and get started with some preprocessing. Some of the columns, e.g <span style=\"font-weight: 500\"> *Name*</span>, simply identify a person and are not useful for prediction tasks. Try to identify these columns, and remove them.\n",
    "\n",
    "    <span style=\"font-weight: 500\"> *Hint: The shape of the data should now be (891, 9).*</span>"
   ]
  },
  {
   "cell_type": "code",
   "execution_count": null,
   "metadata": {
    "id": "m18V-jpTpYkL"
   },
   "outputs": [],
   "source": [
    "# Use this cell for your code\n",
    "df.drop(\"Name\", axis=1, inplace=True)\n",
    "df.drop(\"Ticket\", axis=1, inplace=True)\n",
    "df.drop(\"PassengerId\", axis=1, inplace=True)\n",
    "df.shape"
   ]
  },
  {
   "cell_type": "markdown",
   "metadata": {
    "id": "48AcPDOrpYkL"
   },
   "source": [
    "3. The column <span style=\"font-weight: 500\">*Cabin*</span> contains a letter and a number. A smart catch at this point would be to notice that the letter stands for the deck level on the ship. Keeping just the deck information would be more informative when developing, e.g. a classifier that predicts whether a passenger survived. The next step in our preprocessing will be to add a new column to the dataset, which consists simply of the deck letter. You can then remove the original <span style=\"font-weight: 500\">*Cabin*</span>-column.\n",
    "\n",
    "<span style=\"font-weight: 500\">*Hint: The deck letters should be ['A' 'B' 'C' 'D' 'E' 'F' 'G' 'T'].*</span>"
   ]
  },
  {
   "cell_type": "code",
   "execution_count": null,
   "metadata": {
    "id": "OQX5LmWrpYkL"
   },
   "outputs": [],
   "source": [
    "# Use this cell for your code\n",
    "def deck_letter(entry):\n",
    "    if pd.isna(entry):\n",
    "        return np.nan\n",
    "    else: \n",
    "        return entry[:1] # first letter\n",
    "\n",
    "df[\"Cabin\"] = df[\"Cabin\"].apply(deck_letter)\n",
    "\n",
    "df[\"Cabin\"]\n"
   ]
  },
  {
   "cell_type": "markdown",
   "metadata": {
    "id": "mupSH5tXpYkL"
   },
   "source": [
    "4. You’ll notice that some of the columns, such as the previously added deck number, are [categorical](https://en.wikipedia.org/wiki/Categorical_variable). To preprocess the categorical variables so that they're ready for further computation, we need to avoid the current string format of the values. This means the next step for each categorical variable is to transform the string values to numeric ones, that correspond to a unique integer ID representative of each distinct category. This process is called label encoding and you can read more about it [here](https://pandas.pydata.org/docs/user_guide/categorical.html).\n",
    "\n",
    "    <span style=\"font-weight: 500\">*Hint: Pandas can do this for you.*</span>"
   ]
  },
  {
   "cell_type": "code",
   "execution_count": null,
   "metadata": {
    "id": "cfb0_uzRpYkL"
   },
   "outputs": [],
   "source": [
    "# Use this cell for your code\n",
    "\n",
    "# categoricals and str: 'Cabin', 'Embarked', 'Sex'\n",
    "df['Cabin'] = df['Cabin'].astype('category').cat.codes\n",
    "df['Cabin'] = df['Cabin'].replace(-1, np.nan)\n",
    "df['Cabin']\n",
    "\n",
    "df['Embarked'] = df['Embarked'].astype('category').cat.codes\n",
    "df['Embarked'] = df['Embarked'].replace(-1, np.nan)\n",
    "df['Embarked']\n",
    "\n",
    "\n",
    "df['Sex'] = df['Sex'].astype('category').cat.codes\n",
    "df['Sex'] = df['Sex'].replace(-1, np.nan)\n",
    "df['Sex']\n",
    "\n",
    "df[['Cabin', 'Embarked', 'Sex']]"
   ]
  },
  {
   "cell_type": "markdown",
   "metadata": {
    "id": "32_hHxGLpYkL"
   },
   "source": [
    "5. Next, let's look into missing value **imputation**. Some of the rows in the data have missing values, e.g when the cabin number of a person is unknown. Most machine learning algorithms have trouble with missing values, and they need to be handled during preprocessing:\n",
    "\n",
    "    a) For continuous variables, replace the missing values with the mean of the non-missing values of that column.\n",
    "\n",
    "    b) For categorical variables, replace the missing values with the mode of the column.\n",
    "\n",
    "    <span style=\"font-weight: 500\">*Remember: Even though in the previous step we transformed categorical variables into their numeric representation, they are still categorical.*</span>"
   ]
  },
  {
   "cell_type": "code",
   "execution_count": null,
   "metadata": {
    "id": "e0kh2bbGpYkL"
   },
   "outputs": [],
   "source": [
    "# Use this cell for your code\n",
    "#df.columns: 'Survived', 'Pclass', 'Age', 'SibSp', 'Parch', 'Ticket', 'Fare','Cabin', 'Embarked'\n",
    "\n",
    "# df['Survived'].isna().sum() # categorical, no nanas\n",
    "# df['Pclass'].isna().sum() # categorical, no nanas\n",
    "# df['Age'].isna().sum() # continuous, has nanas -> fill with mean()\n",
    "# df['SibSp'].isna().sum() # categorical, no nanas\n",
    "# df['Parch'].isna().sum() # continuous, no nanas\n",
    "# df['Sex'].isna().sum() # categorical, no nanas\n",
    "# df['Fare'].isna().sum() # continous, no nanas\n",
    "# df['Cabin'].unique() # categorical, has nanas -> fill with mode()\n",
    "# df['Embarked'].isna().sum() # categorical, has nanas -> fill with mode()\n",
    "\n",
    "# to be fillnanaed. 'Age', 'Cabin', 'Embarked'\n",
    "df['Cabin'] = df['Cabin'].fillna(df['Cabin'].mode()[0])\n",
    "\n",
    "df['Embarked'] = df['Embarked'].fillna(df['Embarked'].mode()[0])\n",
    "\n",
    "df['Age'] = pd.to_numeric(df['Age'], errors='coerce')\n",
    "df['Age'] = df['Age'].fillna(df['Age'].mean())\n",
    "\n",
    "df[['Age', 'Cabin', 'Embarked']]\n"
   ]
  },
  {
   "cell_type": "markdown",
   "metadata": {
    "id": "15Kbmgx9pYkM"
   },
   "source": [
    "6. At this point, all data is numeric. Write the data, with the modifications we made, to a  <span style=\"font-weight: 500\"> .csv</span> file. Then, write another file, this time in <span style=\"font-weight: 500\">JSON</span> format, with the following structure:"
   ]
  },
  {
   "cell_type": "code",
   "execution_count": null,
   "metadata": {
    "id": "J_EhC78NpYkM"
   },
   "outputs": [],
   "source": [
    "#[\n",
    "#    {\n",
    "#        \"Deck\": 0,\n",
    "#        \"Age\": 20,\n",
    "#        \"Survived\", 0\n",
    "#        ...\n",
    "#    },\n",
    "#    {\n",
    "#        ...\n",
    "#    }\n",
    "#]"
   ]
  },
  {
   "cell_type": "code",
   "execution_count": null,
   "metadata": {
    "id": "lxF-ehbapYkM"
   },
   "outputs": [],
   "source": [
    "# Use this cell for your code\n",
    "\n",
    "# write to new csv\n",
    "df.to_csv('assets/output.csv', index=False)\n",
    "df.to_json('assets/output.json', orient='records', lines=False)"
   ]
  },
  {
   "cell_type": "markdown",
   "metadata": {
    "id": "PnkAgzHjpYkM"
   },
   "source": [
    "Study the records and try to see if there is any evident pattern in terms of chances of survival."
   ]
  },
  {
   "cell_type": "markdown",
   "metadata": {
    "id": "ddqs0UqLpYkM"
   },
   "source": [
    "**Remember to submit your code on the MOOC platform. You can return this Jupyter notebook (.ipynb) or .py, .R, etc depending on your programming preferences.**"
   ]
  },
  {
   "cell_type": "markdown",
   "metadata": {
    "id": "PGnzPePKpYkM"
   },
   "source": [
    "## Exercise 2 | Titanic 2.0: exploratory data analysis\n",
    "\n",
    "In this exercise, we’ll continue to study the Titanic dataset from the last exercise. Now that we have done some preprocessing, it’s time to look at the data with some exploratory data analysis."
   ]
  },
  {
   "cell_type": "markdown",
   "metadata": {
    "id": "i5nTB9ExpYkM"
   },
   "source": [
    "1. First investigate each feature variable in turn. For each categorical variable, find out the mode, i.e., the most frequent value. For numerical variables, calculate the median value."
   ]
  },
  {
   "cell_type": "code",
   "execution_count": null,
   "metadata": {
    "id": "hKdMpHZApYkM"
   },
   "outputs": [],
   "source": [
    "# Use this cell for your code\n",
    "out_df = pd.read_csv('assets/output.csv')\n",
    "\n",
    "categoricals = ['Survived', 'Pclass', 'SibSp', 'Cabin', 'Embarked', 'Sex']\n",
    "continuous = ['Age', 'Parch', 'Fare']\n",
    "\n",
    "summary = []\n",
    "for col in out_df.columns:\n",
    "    dtype = 'categorical' if col in categoricals else 'continuous'\n",
    "    mode = out_df[col].mode().iloc[0] if dtype == 'categorical' else np.nan\n",
    "    # Only calculate median if the column is numeric\n",
    "    if dtype == 'continuous' and pd.api.types.is_numeric_dtype(out_df[col]):\n",
    "        median = out_df[col].median()\n",
    "    else:\n",
    "        median = np.nan\n",
    "        \n",
    "    summary.append({'feature': col, 'mode': mode, 'median': median, 'type': dtype})\n",
    "\n",
    "\n",
    "summary_df = pd.DataFrame(summary)\n",
    "print(summary_df)"
   ]
  },
  {
   "cell_type": "markdown",
   "metadata": {
    "id": "aOjLqfDkpYkM"
   },
   "source": [
    "2. Next, combine the modes of the categorical variables, and the medians of the numerical variables, to construct an imaginary “average survivor”. This \"average survivor\" should represent the typical passenger of the class of passengers who survived. Also following the same principle, construct the “average non-survivor”.\n",
    "\n",
    "    <span style=\"font-weight: 500\">*Hint 1: What are the average/most frequent variable values for a non-survivor?*</span>\n",
    "    \n",
    "    <span style=\"font-weight: 500\">*Hint 2: You can split the dataframe in two: one subset containing all the survivors and one consisting of all the non-survivor instances. Then, you can use the summary statistics of each of these dataframe to create a prototype \"average survivor\" and \"average non-survivor\", respectively.*</span>"
   ]
  },
  {
   "cell_type": "code",
   "execution_count": null,
   "metadata": {
    "id": "OhUU2GIDpYkM"
   },
   "outputs": [],
   "source": [
    "# Use this cell for your code\n",
    "survived_df = out_df[out_df['Survived'] == 1]\n",
    "non_survived_df = out_df[out_df['Survived'] == 0]\n",
    "\n",
    "cols = ['Age','Pclass','SibSp','Parch','Cabin','Fare','Embarked','Sex']\n",
    "\n",
    "surviver_rows = [[\n",
    "    survived_df['Age'].median(),\n",
    "    survived_df['Pclass'].mode()[0],\n",
    "    survived_df['SibSp'].mode()[0],\n",
    "    survived_df['Parch'].mean(),\n",
    "    survived_df['Cabin'].mode()[0],\n",
    "    survived_df['Fare'].mean(),\n",
    "    survived_df['Embarked'].mode()[0],\n",
    "    survived_df['Sex'].mode()[0],\n",
    "]]\n",
    "\n",
    "non_surviver_rows = [[\n",
    "    non_survived_df['Age'].median(),\n",
    "    non_survived_df['Pclass'].mode()[0],\n",
    "    non_survived_df['SibSp'].mode()[0],\n",
    "    non_survived_df['Parch'].mean(),\n",
    "    non_survived_df['Cabin'].mode()[0],\n",
    "    non_survived_df['Fare'].mean(),\n",
    "    non_survived_df['Embarked'].mode()[0],\n",
    "    non_survived_df['Sex'].mode()[0],\n",
    "]]\n",
    "\n",
    "avg_survivor_df = pd.DataFrame(surviver_rows, columns=cols)\n",
    "avg_non_survivor_df = pd.DataFrame(non_surviver_rows, columns=cols)\n",
    "\n",
    "avg_survivor_df\n",
    "avg_non_survivor_df\n",
    "\n",
    "combined_df = pd.concat([avg_survivor_df, avg_non_survivor_df], ignore_index=True)\n",
    "combined_df"
   ]
  },
  {
   "cell_type": "markdown",
   "metadata": {
    "id": "e3Bax_hlpYkM"
   },
   "source": [
    "3. Next, let's study the distributions of the variables in the two groups (survivor/non-survivor). How well do the average cases represent the respective groups? Can you find actual passengers that are very similar to the (average) representative of their own group? Can you find passengers that are very similar to the (average) representative of the other group?\n",
    "\n",
    "    <span style=\"font-weight: 500\">*Note: Feel free to choose EDA methods according to your preference: non-graphical/graphical, static/interactive - anything goes.*</span>"
   ]
  },
  {
   "cell_type": "code",
   "execution_count": null,
   "metadata": {
    "id": "mNsSMXRMpYkM"
   },
   "outputs": [],
   "source": [
    "# Use this cell for your code\n",
    "\n",
    "import matplotlib.pyplot as plt\n",
    "import seaborn as sns\n",
    "\n",
    "features = [\n",
    "    ('Age', 'hist'), \n",
    "    ('Pclass', 'count'), \n",
    "    ('SibSp', 'count'), \n",
    "    ('Parch', 'count'), \n",
    "    ('Cabin', 'count'), \n",
    "    ('Fare', 'hist'), \n",
    "    ('Embarked', 'count'), \n",
    "    ('Sex', 'count')\n",
    "]\n",
    "\n",
    "survived_df = out_df[out_df['Survived'] == 1]\n",
    "non_survived_df = out_df[out_df['Survived'] == 0]\n",
    "\n",
    "avg_survivor = avg_survivor_df.iloc[0]\n",
    "avg_non_survivor = avg_non_survivor_df.iloc[0]\n",
    "\n",
    "for feature, plot_type in features:\n",
    "    fig, axes = plt.subplots(1, 2, figsize=(12, 4), sharey=True)\n",
    "    # Plot for survivors\n",
    "    if plot_type == 'hist':\n",
    "        sns.histplot(survived_df[feature], bins=20, kde=True, ax=axes[0], color='green')\n",
    "        axes[0].axvline(avg_survivor[feature], color='blue', linestyle='--', label='Avg Survivor')\n",
    "    else:\n",
    "        sns.countplot(x=feature, data=survived_df, ax=axes[0], color='green')\n",
    "        axes[0].scatter(avg_survivor[feature], 0, color='blue', s=100, marker='*', label='Avg Survivor')\n",
    "    axes[0].set_title(f'Survived - {feature}')\n",
    "    axes[0].legend()\n",
    "\n",
    "    # Plot for non-survivors\n",
    "    if plot_type == 'hist':\n",
    "        sns.histplot(non_survived_df[feature], bins=20, kde=True, ax=axes[1], color='red')\n",
    "        axes[1].axvline(avg_non_survivor[feature], color='purple', linestyle='--', label='Avg Non-Survivor')\n",
    "    else:\n",
    "        sns.countplot(x=feature, data=non_survived_df, ax=axes[1], color='red')\n",
    "        axes[1].scatter(avg_non_survivor[feature], 0, color='purple', s=100, marker='*', label='Avg Non-Survivor')\n",
    "    axes[1].set_title(f'Not Survived - {feature}')\n",
    "    axes[1].legend()\n",
    "\n",
    "    plt.tight_layout()\n",
    "    plt.show()"
   ]
  },
  {
   "cell_type": "markdown",
   "metadata": {
    "id": "Cc96MC9CpYkM"
   },
   "source": [
    "4. Next, let's continue the analysis by looking into pairwise and multivariate relationships between the variables in the two groups. Try to visualize two variables at a time using, e.g., scatter plots and use a different color to encode the survival status.\n",
    "\n",
    "    <span style=\"font-weight: 500\">*Hint 1: You can also check out Seaborn's pairplot function, if you wish.*</span>\n",
    "\n",
    "    <span style=\"font-weight: 500\">*Hint 2: To better show many data points with the same value for a given variable, you can use either transparency or ‘jitter’.*</span>"
   ]
  },
  {
   "cell_type": "code",
   "execution_count": null,
   "metadata": {
    "id": "fexBqTMQpYkM"
   },
   "outputs": [],
   "source": [
    "# Use this cell for your code\n",
    "import seaborn as sns\n",
    "import matplotlib.pyplot as plt\n",
    " \n",
    "pairplot_features = ['Age', 'Fare', 'Pclass', 'SibSp', 'Parch', 'Sex', 'Embarked', 'Cabin']\n",
    "\n",
    "sns.pairplot(out_df[pairplot_features + ['Survived']], hue='Survived', plot_kws={'alpha':0.5})\n",
    "plt.suptitle('Pairwise Relationships by Survival', y=1.02)\n",
    "plt.show()"
   ]
  },
  {
   "cell_type": "markdown",
   "metadata": {
    "id": "pNOrCjKzpYkM"
   },
   "source": [
    "5. Finally, recall the preprocessing we did in the first exercise. What can you say about the effect of the choices that were made to use the mode and mean to impute missing values, instead of, for example, ignoring passengers with missing data?"
   ]
  },
  {
   "cell_type": "markdown",
   "metadata": {
    "id": "e8TeRhWapYkM"
   },
   "source": [
    "*Use this (markdown) cell for your written answer*\n",
    "\n",
    "We could not have done a very good pairwise evaluation, since many potential pairs would have been missed."
   ]
  },
  {
   "cell_type": "markdown",
   "metadata": {
    "id": "IsrhB5wvpYkM"
   },
   "source": [
    "**Remember to submit your code on the MOOC platform. You can return this Jupyter notebook (.ipynb) or .py, .R, etc depending on your programming preferences.**"
   ]
  },
  {
   "cell_type": "markdown",
   "metadata": {
    "id": "HqgXjyklpYkM"
   },
   "source": [
    "## Exercise 3 | Working with text data 2.0\n",
    "\n",
    "This exercise is related to the second exercise from last week. Find the saved <span style=\"font-weight: 500\">pos.txt</span> and <span style=\"font-weight: 500\">neg.txt</span> files, or, alternatively, you can find the week 1 example solutions on the MOOC platform after Tuesday."
   ]
  },
  {
   "cell_type": "markdown",
   "metadata": {
    "id": "u-DfVlSWpYkM"
   },
   "source": [
    "1. Find the most common words in each file (positive and negative). Examine the results. Do they tend to be general terms relating to the nature of the data? How well do they indicate positive/negative sentiment?"
   ]
  },
  {
   "cell_type": "code",
   "execution_count": null,
   "metadata": {
    "id": "GDsK6jXMpYkM"
   },
   "outputs": [
    {
     "name": "stdout",
     "output_type": "stream",
     "text": [
      "pos top: [('great', 435907)]\n",
      "neg top: [('work', 39998)]\n"
     ]
    },
    {
     "data": {
      "text/plain": [
       "['wrote', 'review', 'manufactur', 'contact', 'explain']"
      ]
     },
     "execution_count": 21,
     "metadata": {},
     "output_type": "execute_result"
    }
   ],
   "source": [
    "# Use this cell for your code\n",
    "import pandas as pd\n",
    "from collections import Counter\n",
    "import re\n",
    "\n",
    "pos_df = pd.read_csv(\"assets/pos.txt\", header=None)\n",
    "neg_df = pd.read_csv(\"assets/neg.txt\", header=None)\n",
    "\n",
    "# join rows into one string, then split into words\n",
    "pos_words = re.findall(r\"\\w+\", \" \".join(pos_df[1].astype(str)))\n",
    "neg_words = re.findall(r\"\\w+\", \" \".join(neg_df[1].astype(str)))\n",
    "\n",
    "# count frequencies\n",
    "pos_counts = Counter(pos_words)\n",
    "neg_counts = Counter(neg_words)\n",
    "\n",
    "print(\"pos top:\", pos_counts.most_common(1))\n",
    "print(\"neg top:\", neg_counts.most_common(1))"
   ]
  },
  {
   "cell_type": "markdown",
   "metadata": {
    "id": "LlU_trsrpYkM"
   },
   "source": [
    "2. Compute a [TF/IDF](https://en.wikipedia.org/wiki/Tf–idf) vector for each of the two text files, and make them into a <span style=\"font-weight: 500\">2 x m</span> matrix, where <span style=\"font-weight: 500\">m</span> is the number of unique words in the data. The problem with using the most common words in a review to analyze its contents is that words that are common overall will be common in all reviews (both positive and negative). This means that they probably are not good indicators about the sentiment of a specific review. TF/IDF stands for Term Frequency / Inverse Document Frequency (here the reviews are the documents), and is designed to help by taking into consideration not just the number of times a term occurs (term frequency), but also how many times a word exists in other reviews as well (inverse document frequency). You can use any variant of the formula, as well as off-the-shelf implementations. <span style=\"font-weight: 500\">*Hint: You can use [sklearn](http://scikit-learn.org/).*</span>"
   ]
  },
  {
   "cell_type": "code",
   "execution_count": null,
   "metadata": {
    "id": "Tt_t-Lx8pYkM"
   },
   "outputs": [],
   "source": [
    "# Use this cell for your code\n",
    "from sklearn.feature_extraction.text import TfidfVectorizer\n",
    "\n",
    "docs = [\" \".join(pos_words), \" \".join(neg_words)] \n",
    "vec = TfidfVectorizer(token_pattern=r\"\\w+\", lowercase=False) \n",
    "X = vec.fit_transform(docs) \n",
    "\n",
    "features = vec.get_feature_names_out()\n",
    "tfidf_df = pd.DataFrame(X.toarray(), index=[\"pos\", \"neg\"], columns=features)\n",
    "tfidf_df.to_csv(\"assets/tfidf.csv\")\n"
   ]
  },
  {
   "cell_type": "markdown",
   "metadata": {
    "id": "5lsOuLeOpYkM"
   },
   "source": [
    "3. List the words with the highest TF/IDF score in each class (positive | negative), and compare them to the most common words. What do you notice? Did TF/IDF work as expected?"
   ]
  },
  {
   "cell_type": "code",
   "execution_count": null,
   "metadata": {
    "id": "h1tkcbH5pYkM"
   },
   "outputs": [
    {
     "name": "stdout",
     "output_type": "stream",
     "text": [
      "pos ----------\n",
      "great      0.358083\n",
      "work       0.351407\n",
      "use        0.283598\n",
      "good       0.239415\n",
      "fit        0.224675\n",
      "instal     0.188451\n",
      "product    0.172578\n",
      "it         0.169766\n",
      "look       0.149015\n",
      "just       0.148209\n",
      "Name: pos, dtype: float64\n",
      "\n",
      "neg ----------\n",
      "work       0.288625\n",
      "use        0.268752\n",
      "fit        0.225817\n",
      "it         0.217324\n",
      "product    0.176027\n",
      "just       0.170160\n",
      "light      0.165297\n",
      "like       0.149263\n",
      "time       0.141902\n",
      "look       0.135834\n",
      "Name: neg, dtype: float64\n"
     ]
    }
   ],
   "source": [
    "# Use this cell for your code\n",
    "pos_top = tfidf_df.loc[\"pos\"].nlargest(10)\n",
    "neg_top = tfidf_df.loc[\"neg\"].nlargest(10)\n",
    "\n",
    "print('pos ----------')\n",
    "print(pos_top)\n",
    "print('')\n",
    "print('neg ----------')\n",
    "print(neg_top)"
   ]
  },
  {
   "cell_type": "markdown",
   "metadata": {
    "id": "9z_vWhnXpYkM"
   },
   "source": [
    "4. Plot the words in each class with their corresponding TF/IDF scores. Note that there will be a lot of words, so you’ll have to think carefully to make your chart clear! If you can’t plot them all, plot a subset – think about how you should choose this subset.\n",
    "\n",
    "    <span style=\"font-weight: 500\">*Hint: you can use word clouds. But feel free to challenge yourselves to think of any other meaningful way to visualize this information!*</span>"
   ]
  },
  {
   "cell_type": "code",
   "execution_count": 34,
   "metadata": {
    "id": "5eUJ3HxlpYkN"
   },
   "outputs": [
    {
     "data": {
      "image/png": "[encoded data removed]",
      "text/plain": [
       "<Figure size 800x600 with 1 Axes>"
      ]
     },
     "metadata": {},
     "output_type": "display_data"
    },
    {
     "data": {
      "image/png": "[encoded data removed]",
      "text/plain": [
       "<Figure size 800x600 with 1 Axes>"
      ]
     },
     "metadata": {},
     "output_type": "display_data"
    }
   ],
   "source": [
    "# Use this cell for your code\n",
    "import matplotlib.pyplot as plt\n",
    "\n",
    "def plot_top_words(tfidf_df, label, k=20):\n",
    "    top = tfidf_df.loc[label].nlargest(k)\n",
    "    plt.figure(figsize=(8, 6))\n",
    "    top.sort_values().plot.barh(color=\"steelblue\")\n",
    "    plt.title(f\"Top {k} TF-IDF words in {label}\")\n",
    "    plt.xlabel(\"TF-IDF score\")\n",
    "    plt.ylabel(\"word\")\n",
    "    plt.tight_layout()\n",
    "    plt.show()\n",
    "\n",
    "plot_top_words(tfidf_df, \"pos\")\n",
    "plot_top_words(tfidf_df, \"neg\")"
   ]
  },
  {
   "cell_type": "markdown",
   "metadata": {
    "id": "c8-yzV5HpYkN"
   },
   "source": [
    "**Remember to submit your code on the MOOC platform. You can return this Jupyter notebook (.ipynb) or .py, .R, etc depending on your programming preferences.**"
   ]
  },
  {
   "cell_type": "markdown",
   "metadata": {
    "id": "h_Xd1n98pYkQ"
   },
   "source": [
    "## Exercise 4 | Junk charts\n",
    "\n",
    "There’s a thriving community of chart enthusiasts who keep looking for statistical graphics that they find inappropriate, and which they call “junk charts”, and who often also propose ways to improve them."
   ]
  },
  {
   "cell_type": "markdown",
   "metadata": {
    "id": "w78AogNWpYkQ"
   },
   "source": [
    "1. Find at least three statistical visualizations you think are not very good and identify their problems. Copying examples from various junk chart websites is not accepted – you should find your own junk charts, out in the wild. You should be able to find good (or rather, bad) examples quite easily since a significant fraction of charts can have at least *some* issues. The examples you choose should also have different problems, e.g., try to avoid collecting three bar charts, all with problematic axes. Instead, try to find as interesting and diverse examples as you can."
   ]
  },
  {
   "cell_type": "markdown",
   "metadata": {
    "id": "VJfbaQH2pYkQ"
   },
   "source": [
    "2. Try to produce improved versions of the charts you selected. The data is of course often not available, but perhaps you can try to extract it, at least approximately, from the chart. Or perhaps you can simulate data that looks similar enough to make the point.\n",
    "\n"
   ]
  },
  {
   "cell_type": "markdown",
   "metadata": {
    "id": "p-rwa7IrpYkQ"
   },
   "source": [
    "**Submit a PDF with all the charts (the ones you found and the ones you produced).**"
   ]
  },
  {
   "cell_type": "markdown",
   "metadata": {},
   "source": [
    "The answer file is ids_w2_ex4.pdf in this folder.\n",
    "\n",
    "1/2 completed"
   ]
  }
 ],
 "metadata": {
  "colab": {
   "provenance": []
  },
  "kernelspec": {
   "display_name": "venv (3.10.12)",
   "language": "python",
   "name": "python3"
  },
  "language_info": {
   "codemirror_mode": {
    "name": "ipython",
    "version": 3
   },
   "file_extension": ".py",
   "mimetype": "text/x-python",
   "name": "python",
   "nbconvert_exporter": "python",
   "pygments_lexer": "ipython3",
   "version": "3.10.12"
  }
 },
 "nbformat": 4,
 "nbformat_minor": 0
}
